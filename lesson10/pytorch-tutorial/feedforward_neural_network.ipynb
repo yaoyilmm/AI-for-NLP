{
 "cells": [
  {
   "cell_type": "code",
   "execution_count": 1,
   "metadata": {},
   "outputs": [],
   "source": [
    "import torch"
   ]
  },
  {
   "cell_type": "code",
   "execution_count": 2,
   "metadata": {},
   "outputs": [
    {
     "name": "stdout",
     "output_type": "stream",
     "text": [
      "Downloading http://yann.lecun.com/exdb/mnist/train-images-idx3-ubyte.gz to ../../data\\MNIST\\raw\\train-images-idx3-ubyte.gz\n"
     ]
    },
    {
     "name": "stderr",
     "output_type": "stream",
     "text": [
      " 99%|██████████████████████████████████████████████████████████████████████████████████████████████████████████████████████████████████████████████████████████████████████████████████████████▊ | 9846784/9912422 [00:11<00:00, 515143.20it/s]"
     ]
    },
    {
     "name": "stdout",
     "output_type": "stream",
     "text": [
      "Extracting ../../data\\MNIST\\raw\\train-images-idx3-ubyte.gz to ../../data\\MNIST\\raw\n",
      "Downloading http://yann.lecun.com/exdb/mnist/train-labels-idx1-ubyte.gz to ../../data\\MNIST\\raw\\train-labels-idx1-ubyte.gz\n"
     ]
    },
    {
     "name": "stderr",
     "output_type": "stream",
     "text": [
      "\n",
      "0it [00:00, ?it/s]\n",
      "  0%|                                                                                                                                                                                                                | 0/28881 [00:00<?, ?it/s]\n",
      " 57%|█████████████████████████████████████████████████████████████████████████████████████████████████████████████▍                                                                                   | 16384/28881 [00:00<00:00, 75847.55it/s]\n",
      "32768it [00:00, 50024.61it/s]                                                                                                                                                                                                                  "
     ]
    },
    {
     "name": "stdout",
     "output_type": "stream",
     "text": [
      "Extracting ../../data\\MNIST\\raw\\train-labels-idx1-ubyte.gz to ../../data\\MNIST\\raw\n",
      "Downloading http://yann.lecun.com/exdb/mnist/t10k-images-idx3-ubyte.gz to ../../data\\MNIST\\raw\\t10k-images-idx3-ubyte.gz\n"
     ]
    },
    {
     "name": "stderr",
     "output_type": "stream",
     "text": [
      "\n",
      "0it [00:00, ?it/s]\n",
      "  0%|                                                                                                                                                                                                              | 0/1648877 [00:00<?, ?it/s]\n",
      "  1%|█▉                                                                                                                                                                                             | 16384/1648877 [00:00<00:24, 67420.02it/s]\n",
      "  3%|█████▋                                                                                                                                                                                         | 49152/1648877 [00:00<00:19, 80546.05it/s]\n",
      "  6%|███████████▍                                                                                                                                                                                   | 98304/1648877 [00:01<00:15, 99969.88it/s]\n",
      " 10%|██████████████████▊                                                                                                                                                                          | 163840/1648877 [00:01<00:11, 125501.30it/s]\n",
      " 16%|██████████████████████████████                                                                                                                                                               | 262144/1648877 [00:01<00:08, 160651.84it/s]\n",
      " 22%|██████████████████████████████████████████▎                                                                                                                                                  | 368640/1648877 [00:01<00:06, 201952.02it/s]\n",
      " 29%|██████████████████████████████████████████████████████▍                                                                                                                                      | 475136/1648877 [00:01<00:04, 246269.48it/s]\n",
      " 36%|███████████████████████████████████████████████████████████████████▌                                                                                                                         | 589824/1648877 [00:02<00:03, 294377.89it/s]\n",
      " 43%|█████████████████████████████████████████████████████████████████████████████████▋                                                                                                           | 712704/1648877 [00:02<00:02, 345363.00it/s]\n",
      " 51%|███████████████████████████████████████████████████████████████████████████████████████████████▊                                                                                             | 835584/1648877 [00:02<00:02, 393388.06it/s]\n",
      " 59%|██████████████████████████████████████████████████████████████████████████████████████████████████████████████▊                                                                              | 966656/1648877 [00:02<00:01, 440230.55it/s]\n",
      " 67%|██████████████████████████████████████████████████████████████████████████████████████████████████████████████████████████████                                                              | 1105920/1648877 [00:03<00:01, 483481.42it/s]\n",
      " 76%|█████████████████████████████████████████████████████████████████████████████████████████████████████████████████████████████████████████████▉                                              | 1245184/1648877 [00:03<00:00, 528046.21it/s]\n",
      " 85%|███████████████████████████████████████████████████████████████████████████████████████████████████████████████████████████████████████████████████████████████▋                            | 1400832/1648877 [00:03<00:00, 573421.97it/s]\n",
      " 94%|█████████████████████████████████████████████████████████████████████████████████████████████████████████████████████████████████████████████████████████████████████████████████▍          | 1556480/1648877 [00:03<00:00, 618117.87it/s]\n",
      "1654784it [00:03, 446128.17it/s]                                                                                                                                                                                                               "
     ]
    },
    {
     "name": "stdout",
     "output_type": "stream",
     "text": [
      "Extracting ../../data\\MNIST\\raw\\t10k-images-idx3-ubyte.gz to ../../data\\MNIST\\raw\n",
      "Downloading http://yann.lecun.com/exdb/mnist/t10k-labels-idx1-ubyte.gz to ../../data\\MNIST\\raw\\t10k-labels-idx1-ubyte.gz\n"
     ]
    },
    {
     "name": "stderr",
     "output_type": "stream",
     "text": [
      "\n",
      "0it [00:00, ?it/s]\n",
      "  0%|                                                                                                                                                                                                                 | 0/4542 [00:00<?, ?it/s]\n",
      "8192it [00:00, 18532.86it/s]                                                                                                                                                                                                                   "
     ]
    },
    {
     "name": "stdout",
     "output_type": "stream",
     "text": [
      "Extracting ../../data\\MNIST\\raw\\t10k-labels-idx1-ubyte.gz to ../../data\\MNIST\\raw\n",
      "Processing...\n",
      "Done!\n",
      "Epoch [1/5], Step [100/600], Loss: 0.2775\n",
      "Epoch [1/5], Step [200/600], Loss: 0.2831\n",
      "Epoch [1/5], Step [300/600], Loss: 0.1879\n",
      "Epoch [1/5], Step [400/600], Loss: 0.2369\n",
      "Epoch [1/5], Step [500/600], Loss: 0.1055\n"
     ]
    },
    {
     "name": "stderr",
     "output_type": "stream",
     "text": [
      "\r",
      "9920512it [00:30, 515143.20it/s]                                                                                                                                                                                                               "
     ]
    },
    {
     "name": "stdout",
     "output_type": "stream",
     "text": [
      "Epoch [1/5], Step [600/600], Loss: 0.0935\n",
      "Epoch [2/5], Step [100/600], Loss: 0.1014\n",
      "Epoch [2/5], Step [200/600], Loss: 0.1252\n",
      "Epoch [2/5], Step [300/600], Loss: 0.0634\n",
      "Epoch [2/5], Step [400/600], Loss: 0.0938\n",
      "Epoch [2/5], Step [500/600], Loss: 0.0338\n",
      "Epoch [2/5], Step [600/600], Loss: 0.0538\n",
      "Epoch [3/5], Step [100/600], Loss: 0.0646\n",
      "Epoch [3/5], Step [200/600], Loss: 0.1579\n",
      "Epoch [3/5], Step [300/600], Loss: 0.0857\n",
      "Epoch [3/5], Step [400/600], Loss: 0.1356\n",
      "Epoch [3/5], Step [500/600], Loss: 0.0566\n",
      "Epoch [3/5], Step [600/600], Loss: 0.1013\n",
      "Epoch [4/5], Step [100/600], Loss: 0.0377\n",
      "Epoch [4/5], Step [200/600], Loss: 0.0783\n",
      "Epoch [4/5], Step [300/600], Loss: 0.0536\n",
      "Epoch [4/5], Step [400/600], Loss: 0.0983\n",
      "Epoch [4/5], Step [500/600], Loss: 0.0247\n",
      "Epoch [4/5], Step [600/600], Loss: 0.0367\n",
      "Epoch [5/5], Step [100/600], Loss: 0.0214\n",
      "Epoch [5/5], Step [200/600], Loss: 0.0334\n",
      "Epoch [5/5], Step [300/600], Loss: 0.0209\n",
      "Epoch [5/5], Step [400/600], Loss: 0.0378\n",
      "Epoch [5/5], Step [500/600], Loss: 0.0483\n",
      "Epoch [5/5], Step [600/600], Loss: 0.0515\n",
      "Accuracy of the network on the 10000 test images: 97.91 %\n"
     ]
    }
   ],
   "source": [
    "import torch\n",
    "import torch.nn as nn\n",
    "import torchvision\n",
    "import torchvision.transforms as transforms\n",
    "\n",
    "# Device configuration\n",
    "device = torch.device('cuda' if torch.cuda.is_available() else 'cpu')\n",
    "\n",
    "# Hyper-parameters\n",
    "input_size = 784\n",
    "hidden_size = 500\n",
    "num_classes = 10\n",
    "num_epochs = 5\n",
    "batch_size = 100\n",
    "learning_rate = 0.001\n",
    "\n",
    "# MNIST dataset\n",
    "train_dataset = torchvision.datasets.MNIST(root='../../data',\n",
    "                                           train=True,\n",
    "                                           transform=transforms.ToTensor(),\n",
    "                                           download=True)\n",
    "\n",
    "test_dataset = torchvision.datasets.MNIST(root='../../data',\n",
    "                                          train=False,\n",
    "                                          transform=transforms.ToTensor())\n",
    "\n",
    "# Data loader\n",
    "train_loader = torch.utils.data.DataLoader(dataset=train_dataset,\n",
    "                                           batch_size=batch_size,\n",
    "                                           shuffle=True)\n",
    "\n",
    "test_loader = torch.utils.data.DataLoader(dataset=test_dataset,\n",
    "                                          batch_size=batch_size,\n",
    "                                          shuffle=False)\n",
    "\n",
    "\n",
    "# Fully connected neural network with one hidden layer\n",
    "class NeuralNet(nn.Module):\n",
    "    def __init__(self, input_size, hidden_size, num_classes):\n",
    "        super(NeuralNet, self).__init__()\n",
    "        self.fc1 = nn.Linear(input_size, hidden_size)\n",
    "        self.relu = nn.ReLU()\n",
    "        self.fc2 = nn.Linear(hidden_size, num_classes)\n",
    "\n",
    "    def forward(self, x):\n",
    "        out = self.fc1(x)\n",
    "        out = self.relu(out)\n",
    "        out = self.fc2(out)\n",
    "        return out\n",
    "\n",
    "\n",
    "model = NeuralNet(input_size, hidden_size, num_classes).to(device)\n",
    "\n",
    "# Loss and optimizer\n",
    "criterion = nn.CrossEntropyLoss()\n",
    "optimizer = torch.optim.Adam(model.parameters(), lr=learning_rate)\n",
    "\n",
    "# Train the model\n",
    "total_step = len(train_loader)\n",
    "for epoch in range(num_epochs):\n",
    "    for i, (images, labels) in enumerate(train_loader):\n",
    "        # Move tensors to the configured device\n",
    "        images = images.reshape(-1, 28 * 28).to(device)\n",
    "        labels = labels.to(device)\n",
    "\n",
    "        # Forward pass\n",
    "        outputs = model(images)\n",
    "        loss = criterion(outputs, labels)\n",
    "\n",
    "        # Backward and optimize\n",
    "        optimizer.zero_grad()\n",
    "        loss.backward()\n",
    "        optimizer.step()\n",
    "\n",
    "        if (i + 1) % 100 == 0:\n",
    "            print('Epoch [{}/{}], Step [{}/{}], Loss: {:.4f}'\n",
    "                  .format(epoch + 1, num_epochs, i + 1, total_step, loss.item()))\n",
    "\n",
    "# Test the model\n",
    "# In test phase, we don't need to compute gradients (for memory efficiency)\n",
    "with torch.no_grad():\n",
    "    correct = 0\n",
    "    total = 0\n",
    "    for images, labels in test_loader:\n",
    "        images = images.reshape(-1, 28 * 28).to(device)\n",
    "        labels = labels.to(device)\n",
    "        outputs = model(images)\n",
    "        _, predicted = torch.max(outputs.data, 1)\n",
    "        total += labels.size(0)\n",
    "        correct += (predicted == labels).sum().item()\n",
    "\n",
    "    print('Accuracy of the network on the 10000 test images: {} %'.format(100 * correct / total))\n",
    "\n",
    "# Save the model checkpoint\n",
    "torch.save(model.state_dict(), 'model.ckpt')"
   ]
  },
  {
   "cell_type": "code",
   "execution_count": 6,
   "metadata": {},
   "outputs": [
    {
     "name": "stdout",
     "output_type": "stream",
     "text": [
      "torch.Size([5, 3, 4, 1])\n",
      "torch.Size([5, 3, 4, 1])\n"
     ]
    },
    {
     "data": {
      "text/plain": [
       "torch.Size([1, 3, 1])"
      ]
     },
     "execution_count": 6,
     "metadata": {},
     "output_type": "execute_result"
    }
   ],
   "source": [
    "x=torch.FloatTensor(5,3,4,1)\n",
    "y=torch.FloatTensor(3,1,1)\n",
    "(x.add_(y)).size()\n",
    "#print(torch.Size([5, 3, 4, 1]))\n",
    "print((x.add_(y)).size())\n",
    "# but:\n",
    "x=torch.FloatTensor(1,3,1)\n",
    "y=torch.FloatTensor(3,1)\n",
    "(x.add_(y)).size()"
   ]
  },
  {
   "cell_type": "code",
   "execution_count": null,
   "metadata": {},
   "outputs": [],
   "source": []
  }
 ],
 "metadata": {
  "kernelspec": {
   "display_name": "Python 3",
   "language": "python",
   "name": "python3"
  },
  "language_info": {
   "codemirror_mode": {
    "name": "ipython",
    "version": 3
   },
   "file_extension": ".py",
   "mimetype": "text/x-python",
   "name": "python",
   "nbconvert_exporter": "python",
   "pygments_lexer": "ipython3",
   "version": "3.7.1"
  }
 },
 "nbformat": 4,
 "nbformat_minor": 2
}
