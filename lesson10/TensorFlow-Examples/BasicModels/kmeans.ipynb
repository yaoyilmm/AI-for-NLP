{
 "cells": [
  {
   "cell_type": "markdown",
   "metadata": {},
   "source": [
    "# kmeans"
   ]
  },
  {
   "cell_type": "code",
   "execution_count": 1,
   "metadata": {},
   "outputs": [
    {
     "name": "stdout",
     "output_type": "stream",
     "text": [
      "WARNING:tensorflow:From <ipython-input-1-b65e1b3f8bf2>:25: read_data_sets (from tensorflow.contrib.learn.python.learn.datasets.mnist) is deprecated and will be removed in a future version.\n",
      "Instructions for updating:\n",
      "Please use alternatives such as official/mnist/dataset.py from tensorflow/models.\n",
      "WARNING:tensorflow:From g:\\Anaconda\\lib\\site-packages\\tensorflow\\contrib\\learn\\python\\learn\\datasets\\mnist.py:260: maybe_download (from tensorflow.contrib.learn.python.learn.datasets.base) is deprecated and will be removed in a future version.\n",
      "Instructions for updating:\n",
      "Please write your own downloading logic.\n",
      "WARNING:tensorflow:From g:\\Anaconda\\lib\\site-packages\\tensorflow\\contrib\\learn\\python\\learn\\datasets\\mnist.py:262: extract_images (from tensorflow.contrib.learn.python.learn.datasets.mnist) is deprecated and will be removed in a future version.\n",
      "Instructions for updating:\n",
      "Please use tf.data to implement this functionality.\n",
      "Extracting G:/Users/lenovo/AI-for-NLP/lesson10/tmp/data/train-images-idx3-ubyte.gz\n",
      "WARNING:tensorflow:From g:\\Anaconda\\lib\\site-packages\\tensorflow\\contrib\\learn\\python\\learn\\datasets\\mnist.py:267: extract_labels (from tensorflow.contrib.learn.python.learn.datasets.mnist) is deprecated and will be removed in a future version.\n",
      "Instructions for updating:\n",
      "Please use tf.data to implement this functionality.\n",
      "Extracting G:/Users/lenovo/AI-for-NLP/lesson10/tmp/data/train-labels-idx1-ubyte.gz\n",
      "WARNING:tensorflow:From g:\\Anaconda\\lib\\site-packages\\tensorflow\\contrib\\learn\\python\\learn\\datasets\\mnist.py:110: dense_to_one_hot (from tensorflow.contrib.learn.python.learn.datasets.mnist) is deprecated and will be removed in a future version.\n",
      "Instructions for updating:\n",
      "Please use tf.one_hot on tensors.\n",
      "Extracting G:/Users/lenovo/AI-for-NLP/lesson10/tmp/data/t10k-images-idx3-ubyte.gz\n",
      "Extracting G:/Users/lenovo/AI-for-NLP/lesson10/tmp/data/t10k-labels-idx1-ubyte.gz\n",
      "WARNING:tensorflow:From g:\\Anaconda\\lib\\site-packages\\tensorflow\\contrib\\learn\\python\\learn\\datasets\\mnist.py:290: DataSet.__init__ (from tensorflow.contrib.learn.python.learn.datasets.mnist) is deprecated and will be removed in a future version.\n",
      "Instructions for updating:\n",
      "Please use alternatives such as official/mnist/dataset.py from tensorflow/models.\n",
      "WARNING:tensorflow:From g:\\Anaconda\\lib\\site-packages\\tensorflow\\contrib\\factorization\\python\\ops\\clustering_ops.py:740: calling l2_normalize (from tensorflow.python.ops.nn_impl) with dim is deprecated and will be removed in a future version.\n",
      "Instructions for updating:\n",
      "dim is deprecated, use axis instead\n",
      "Step 1, Avg Distance: 0.341471\n",
      "Step 10, Avg Distance: 0.221609\n",
      "Step 20, Avg Distance: 0.220328\n",
      "Step 30, Avg Distance: 0.219776\n",
      "Step 40, Avg Distance: 0.219419\n",
      "Step 50, Avg Distance: 0.219154\n",
      "Test Accuracy: 0.7127\n"
     ]
    }
   ],
   "source": [
    "from __future__ import print_function\n",
    "\n",
    "\n",
    "\n",
    "import numpy as np\n",
    "\n",
    "import tensorflow as tf\n",
    "\n",
    "from tensorflow.contrib.factorization import KMeans\n",
    "\n",
    "\n",
    "\n",
    "# Ignore all GPUs, tf k-means does not benefit from it.\n",
    "\n",
    "import os\n",
    "\n",
    "os.environ[\"CUDA_VISIBLE_DEVICES\"] = \"\"\n",
    "\n",
    "\n",
    "\n",
    "# Import MNIST data\n",
    "\n",
    "from tensorflow.examples.tutorials.mnist import input_data\n",
    "\n",
    "mnist = input_data.read_data_sets(\"G:/Users/lenovo/AI-for-NLP/lesson10/tmp/data/\", one_hot=True)\n",
    "\n",
    "full_data_x = mnist.train.images\n",
    "\n",
    "\n",
    "\n",
    "# Parameters\n",
    "\n",
    "num_steps = 50 # Total steps to train\n",
    "\n",
    "batch_size = 1024 # The number of samples per batch\n",
    "\n",
    "k = 25 # The number of clusters\n",
    "\n",
    "num_classes = 10 # The 10 digits\n",
    "\n",
    "num_features = 784 # Each image is 28x28 pixels\n",
    "\n",
    "\n",
    "\n",
    "# Input images\n",
    "\n",
    "X = tf.placeholder(tf.float32, shape=[None, num_features])\n",
    "\n",
    "# Labels (for assigning a label to a centroid and testing)\n",
    "\n",
    "Y = tf.placeholder(tf.float32, shape=[None, num_classes])\n",
    "\n",
    "\n",
    "#使用tensorflow集成的Kmeans方法\n",
    "kmeans = KMeans(inputs=X, num_clusters=k, distance_metric='cosine',\n",
    "\n",
    "                use_mini_batch=True)\n",
    "\n",
    "# 构建kmeans图\n",
    "training_graph = kmeans.training_graph()\n",
    "# tensorflow版本不同所以启用不同参数 tensorflow1.4+多了一个参数\n",
    "if len(training_graph) > 6: # Tensorflow 1.4+\n",
    "\n",
    "    (all_scores, cluster_idx, scores, cluster_centers_initialized,\n",
    "\n",
    "     cluster_centers_var, init_op, train_op) = training_graph\n",
    "\n",
    "else:\n",
    "\n",
    "    (all_scores, cluster_idx, scores, cluster_centers_initialized,\n",
    "\n",
    "     init_op, train_op) = training_graph\n",
    "\n",
    "\n",
    "\n",
    "cluster_idx = cluster_idx[0] # fix for cluster_idx being a tuple\n",
    "\n",
    "avg_distance = tf.reduce_mean(scores)\n",
    "\n",
    "\n",
    "\n",
    "# Initialize the variables (i.e. assign their default value)\n",
    "\n",
    "init_vars = tf.global_variables_initializer()\n",
    "\n",
    "\n",
    "\n",
    "# Start TensorFlow session\n",
    "\n",
    "sess = tf.Session()\n",
    "\n",
    "\n",
    "\n",
    "# Run the initializer\n",
    "\n",
    "sess.run(init_vars, feed_dict={X: full_data_x})\n",
    "\n",
    "sess.run(init_op, feed_dict={X: full_data_x})\n",
    "\n",
    "\n",
    "\n",
    "# Training\n",
    "\n",
    "for i in range(1, num_steps + 1):\n",
    "\n",
    "    _, d, idx = sess.run([train_op, avg_distance, cluster_idx],\n",
    "\n",
    "                         feed_dict={X: full_data_x})\n",
    "\n",
    "    if i % 10 == 0 or i == 1:\n",
    "\n",
    "        print(\"Step %i, Avg Distance: %f\" % (i, d))\n",
    "\n",
    "\n",
    "\n",
    "# Assign a label to each centroid\n",
    "\n",
    "# Count total number of labels per centroid, using the label of each training\n",
    "\n",
    "# sample to their closest centroid (given by 'idx')\n",
    "\n",
    "counts = np.zeros(shape=(k, num_classes))\n",
    "\n",
    "for i in range(len(idx)):\n",
    "\n",
    "    counts[idx[i]] += mnist.train.labels[i]\n",
    "\n",
    "# Assign the most frequent label to the centroid\n",
    "\n",
    "labels_map = [np.argmax(c) for c in counts]\n",
    "\n",
    "labels_map = tf.convert_to_tensor(labels_map)\n",
    "\n",
    "\n",
    "\n",
    "# Evaluation ops\n",
    "\n",
    "# Lookup: centroid_id -> label\n",
    "\n",
    "cluster_label = tf.nn.embedding_lookup(labels_map, cluster_idx)\n",
    "\n",
    "# Compute accuracy\n",
    "\n",
    "correct_prediction = tf.equal(cluster_label, tf.cast(tf.argmax(Y, 1), tf.int32))\n",
    "#tf.cast()函数的作用是执行 tensorflow 中张量数据类型转换\n",
    "accuracy_op = tf.reduce_mean(tf.cast(correct_prediction, tf.float32))\n",
    "\n",
    "\n",
    "\n",
    "# Test Model\n",
    "\n",
    "test_x, test_y = mnist.test.images, mnist.test.labels\n",
    "\n",
    "print(\"Test Accuracy:\", sess.run(accuracy_op, feed_dict={X: test_x, Y: test_y}))"
   ]
  },
  {
   "cell_type": "code",
   "execution_count": 2,
   "metadata": {},
   "outputs": [
    {
     "data": {
      "text/plain": [
       "array([[0., 0., 0., ..., 0., 0., 0.],\n",
       "       [0., 0., 0., ..., 0., 0., 0.],\n",
       "       [0., 0., 0., ..., 0., 0., 0.],\n",
       "       ...,\n",
       "       [0., 0., 0., ..., 0., 0., 0.],\n",
       "       [0., 0., 0., ..., 0., 0., 0.],\n",
       "       [0., 0., 0., ..., 0., 0., 0.]], dtype=float32)"
      ]
     },
     "execution_count": 2,
     "metadata": {},
     "output_type": "execute_result"
    }
   ],
   "source": [
    "full_data_x"
   ]
  },
  {
   "cell_type": "code",
   "execution_count": 3,
   "metadata": {},
   "outputs": [
    {
     "data": {
      "text/plain": [
       "55000"
      ]
     },
     "execution_count": 3,
     "metadata": {},
     "output_type": "execute_result"
    }
   ],
   "source": [
    "full_data_x.shape[0]"
   ]
  },
  {
   "cell_type": "code",
   "execution_count": 4,
   "metadata": {},
   "outputs": [
    {
     "data": {
      "text/plain": [
       "784"
      ]
     },
     "execution_count": 4,
     "metadata": {},
     "output_type": "execute_result"
    }
   ],
   "source": [
    "full_data_x.shape[1]"
   ]
  },
  {
   "cell_type": "code",
   "execution_count": null,
   "metadata": {},
   "outputs": [],
   "source": []
  }
 ],
 "metadata": {
  "kernelspec": {
   "display_name": "Python 3",
   "language": "python",
   "name": "python3"
  },
  "language_info": {
   "codemirror_mode": {
    "name": "ipython",
    "version": 3
   },
   "file_extension": ".py",
   "mimetype": "text/x-python",
   "name": "python",
   "nbconvert_exporter": "python",
   "pygments_lexer": "ipython3",
   "version": "3.7.1"
  }
 },
 "nbformat": 4,
 "nbformat_minor": 2
}
