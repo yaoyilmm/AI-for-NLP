{
 "cells": [
  {
   "cell_type": "code",
   "execution_count": 1,
   "metadata": {},
   "outputs": [],
   "source": [
    "import tensorflow"
   ]
  },
  {
   "cell_type": "code",
   "execution_count": 21,
   "metadata": {},
   "outputs": [],
   "source": [
    "class Node:\n",
    "    \"\"\"\n",
    "    Each node in neural networks will have these attributes and methods\n",
    "    \"\"\"\n",
    "    def __init__(self, inputs=[]):\n",
    "        \"\"\"\n",
    "        if the node is the operator of \"ax + b\", the inputs will be x node , and the outputs\n",
    "        of this is its successors.\n",
    "\n",
    "        and the value is *ax + b*\n",
    "        \"\"\"\n",
    "        self.inputs = inputs  \n",
    "       \n",
    "        self.value = None\n",
    "        self.outputs = []\n",
    "        self.gradients = {}\n",
    "\n",
    "        for node in self.inputs:\n",
    "            node.outputs.append(self)  # build a connection relationship\n",
    "\n",
    "    def forward(self):\n",
    "        \"\"\"Forward propogation\n",
    "\n",
    "        compute the output value based on input nodes and store the value\n",
    "        into *self.value*\n",
    "        \"\"\"\n",
    "        raise NotImplemented\n",
    "\n",
    "    def backward(self):\n",
    "        \"\"\" Back propogation\n",
    "\n",
    "        compute the gradient of each input node and store the value\n",
    "        into \"self.gredients\"\n",
    "        \"\"\"\n",
    "        raise NotImplemented"
   ]
  },
  {
   "cell_type": "code",
   "execution_count": 22,
   "metadata": {},
   "outputs": [],
   "source": [
    "class Input(Node):\n",
    "    def __init__(self, name=''):\n",
    "        Node.__init__(self, inputs=[])\n",
    "        self.name = name\n",
    "\n",
    "    def forward(self, value=None):\n",
    "        if value is not None:\n",
    "            self.value = value\n",
    "\n",
    "    def backward(self):\n",
    "        self.gradients = {}\n",
    "        for n in self.outputs:\n",
    "            grad_cost = n.gradients[self]\n",
    "            self.gradients[self] = grad_cost\n",
    "\n",
    "    def __repr__(self):\n",
    "        return 'Input Node: {}'.format(self.name)"
   ]
  },
  {
   "cell_type": "code",
   "execution_count": 23,
   "metadata": {},
   "outputs": [],
   "source": [
    "import numpy as np\n",
    "class Linear(Node):\n",
    "    def __init__(self, nodes, weights, bias):\n",
    "        self.w_node = weights\n",
    "        self.x_node = nodes\n",
    "        self.b_node = bias\n",
    "        Node.__init__(self, inputs=[nodes, weights, bias])\n",
    "\n",
    "    def forward(self):\n",
    "        \"\"\"compute the wx + b using numpy\"\"\"\n",
    "        self.value = np.dot(self.x_node.value, self.w_node.value) + self.b_node.value\n",
    "\n",
    "    def backward(self):\n",
    "        for node in self.outputs:\n",
    "            # gradient_of_loss_of_this_output_node = node.gradient[self]\n",
    "            grad_cost = node.gradients[self]\n",
    "            #print(\"self.w_node.value.T\",self.w_node.value.T)\n",
    "            self.gradients[self.w_node] = np.dot(self.x_node.value.T, grad_cost)\n",
    "            self.gradients[self.b_node] = np.sum(grad_cost * 1, axis=0, keepdims=False)\n",
    "            self.gradients[self.x_node] = np.dot(grad_cost, self.w_node.value.T)\n"
   ]
  },
  {
   "cell_type": "code",
   "execution_count": 24,
   "metadata": {},
   "outputs": [],
   "source": [
    "class Sigmoid(Node):\n",
    "    def __init__(self, node):\n",
    "        Node.__init__(self, [node])\n",
    "        self.x_node = node\n",
    "\n",
    "    def _sigmoid(self, x):\n",
    "        return 1. / (1 + np.exp(-1 * x))\n",
    "\n",
    "    def forward(self):\n",
    "        self.value = self._sigmoid(self.x_node.value)\n",
    "\n",
    "    def backward(self):\n",
    "        y = self.value\n",
    "        self.partial = y * (1 - y)\n",
    "        for n in self.outputs:\n",
    "            grad_cost = n.gradients[self]\n",
    "            self.gradients[self.x_node] = grad_cost * self.partial\n"
   ]
  },
  {
   "cell_type": "code",
   "execution_count": 25,
   "metadata": {},
   "outputs": [],
   "source": [
    "class MSE(Node):\n",
    "    def __init__(self, y_true, y_hat):\n",
    "        self.y_true_node = y_true\n",
    "        self.y_hat_node = y_hat\n",
    "        Node.__init__(self, inputs=[y_true, y_hat])\n",
    "\n",
    "    def forward(self):\n",
    "        y_true_flatten = self.y_true_node.value.reshape(-1, 1)\n",
    "        y_hat_flatten = self.y_hat_node.value.reshape(-1, 1)\n",
    "\n",
    "        self.diff = y_true_flatten - y_hat_flatten\n",
    "\n",
    "        self.value = np.mean(self.diff ** 2)\n",
    "\n",
    "    def backward(self):\n",
    "        n = self.y_hat_node.value.shape[0]\n",
    "        self.gradients[self.y_true_node] = (2 / n) * self.diff\n",
    "        self.gradients[self.y_hat_node] = (-2 / n) * self.diff"
   ]
  },
  {
   "cell_type": "code",
   "execution_count": 26,
   "metadata": {},
   "outputs": [],
   "source": [
    "def training_one_batch(topological_sorted_graph):\n",
    "    # topological_sorted_graph 是经过拓扑排序之后的 一个list\n",
    "    for node in topological_sorted_graph:\n",
    "        node.forward()\n",
    "\n",
    "    for node in topological_sorted_graph[::-1]:\n",
    "        node.backward()"
   ]
  },
  {
   "cell_type": "code",
   "execution_count": 27,
   "metadata": {},
   "outputs": [],
   "source": [
    "#拓扑排序"
   ]
  },
  {
   "cell_type": "code",
   "execution_count": 28,
   "metadata": {},
   "outputs": [],
   "source": [
    "def topological_sort(data_with_value):\n",
    "    feed_dict = data_with_value\n",
    "    input_nodes = [n for n in feed_dict.keys()]\n",
    "\n",
    "    G = {}\n",
    "    nodes = [n for n in input_nodes]\n",
    "    while len(nodes) > 0:\n",
    "        n = nodes.pop(0)\n",
    "        if n not in G:\n",
    "            G[n] = {'in': set(), 'out': set()}\n",
    "        for m in n.outputs:\n",
    "            if m not in G:\n",
    "                G[m] = {'in': set(), 'out': set()}\n",
    "            G[n]['out'].add(m)\n",
    "            G[m]['in'].add(n)\n",
    "            nodes.append(m)\n",
    "\n",
    "    L = []\n",
    "    S = set(input_nodes)\n",
    "    while len(S) > 0:\n",
    "        n = S.pop()\n",
    "\n",
    "        if isinstance(n, Input):\n",
    "            n.value = feed_dict[n]\n",
    "            ## if n is Input Node, set n'value as\n",
    "            ## feed_dict[n]\n",
    "            ## else, n's value is caculate as its\n",
    "            ## inbounds\n",
    "\n",
    "        L.append(n)\n",
    "        for m in n.outputs:\n",
    "            G[n]['out'].remove(m)\n",
    "            G[m]['in'].remove(n)\n",
    "            # if no other incoming edges add to S\n",
    "            if len(G[m]['in']) == 0:\n",
    "                S.add(m)\n",
    "    return L"
   ]
  },
  {
   "cell_type": "code",
   "execution_count": 29,
   "metadata": {},
   "outputs": [],
   "source": [
    "def sgd_update(trainable_nodes, learning_rate=1e-2):\n",
    "    for t in trainable_nodes:\n",
    "        t.value += -1 * learning_rate * t.gradients[t]"
   ]
  },
  {
   "cell_type": "code",
   "execution_count": 30,
   "metadata": {},
   "outputs": [
    {
     "name": "stdout",
     "output_type": "stream",
     "text": [
      "[6.320e-03 1.800e+01 2.310e+00 0.000e+00 5.380e-01 6.575e+00 6.520e+01\n",
      " 4.090e+00 1.000e+00 2.960e+02 1.530e+01 3.969e+02 4.980e+00]\n"
     ]
    }
   ],
   "source": [
    "from sklearn.datasets import load_boston\n",
    "data = load_boston()\n",
    "X_ = data['data']\n",
    "print(X_[0])"
   ]
  },
  {
   "cell_type": "code",
   "execution_count": 31,
   "metadata": {},
   "outputs": [],
   "source": [
    "y_ = data['target']"
   ]
  },
  {
   "cell_type": "code",
   "execution_count": 32,
   "metadata": {},
   "outputs": [
    {
     "name": "stdout",
     "output_type": "stream",
     "text": [
      "24.0\n"
     ]
    }
   ],
   "source": [
    "print(y_[0])"
   ]
  },
  {
   "cell_type": "code",
   "execution_count": 33,
   "metadata": {},
   "outputs": [
    {
     "name": "stdout",
     "output_type": "stream",
     "text": [
      "[-0.41978194  0.28482986 -1.2879095  -0.27259857 -0.14421743  0.41367189\n",
      " -0.12001342  0.1402136  -0.98284286 -0.66660821 -1.45900038  0.44105193\n",
      " -1.0755623 ]\n"
     ]
    }
   ],
   "source": [
    "X_ = (X_ - np.mean(X_, axis=0)) / np.std(X_, axis=0)\n",
    "print(X_[0])"
   ]
  },
  {
   "cell_type": "code",
   "execution_count": 34,
   "metadata": {},
   "outputs": [],
   "source": [
    "n_features = X_.shape[1]#列数\n",
    "n_hidden = 10\n",
    "\n",
    "#W1_ 为13 * 10的矩阵\n",
    "W1_, b1_ = np.random.randn(n_features, n_hidden), np.zeros(n_hidden)\n",
    "#W2为10*1的矩阵\n",
    "W2_, b2_ = np.random.randn(n_hidden, 1), np.zeros(1)\n",
    "\n",
    "X, y = Input(name='X'), Input(name='y')  # tensorflow -> placeholder\n",
    "W1, b1 = Input(name='W1'), Input(name='b1')\n",
    "W2, b2 = Input(name='W2'), Input(name='b2')\n",
    "linear_output = Linear(X, W1, b1)\n",
    "sigmoid_output = Sigmoid(linear_output)\n",
    "yhat = Linear(sigmoid_output, W2, b2)\n",
    "loss = MSE(y, yhat)\n"
   ]
  },
  {
   "cell_type": "code",
   "execution_count": 35,
   "metadata": {},
   "outputs": [],
   "source": [
    "\n",
    "input_node_with_value = {  # -> feed_dict \n",
    "    X: X_, \n",
    "    y: y_, \n",
    "    W1: W1_, \n",
    "    W2: W2_, \n",
    "    b1: b1_, \n",
    "    b2: b2_\n",
    "}\n"
   ]
  },
  {
   "cell_type": "code",
   "execution_count": 36,
   "metadata": {},
   "outputs": [
    {
     "name": "stdout",
     "output_type": "stream",
     "text": [
      "Epoch: 1, loss = 718.835\n",
      "Epoch: 101, loss = 42.318\n",
      "Epoch: 201, loss = 26.610\n",
      "Epoch: 301, loss = 23.965\n",
      "Epoch: 401, loss = 25.083\n",
      "Epoch: 501, loss = 16.538\n",
      "Epoch: 601, loss = 16.394\n",
      "Epoch: 701, loss = 12.647\n",
      "Epoch: 801, loss = 13.602\n",
      "Epoch: 901, loss = 13.913\n",
      "Epoch: 1001, loss = 15.738\n",
      "Epoch: 1101, loss = 13.889\n",
      "Epoch: 1201, loss = 8.003\n",
      "Epoch: 1301, loss = 11.013\n",
      "Epoch: 1401, loss = 9.074\n",
      "Epoch: 1501, loss = 11.791\n",
      "Epoch: 1601, loss = 10.593\n",
      "Epoch: 1701, loss = 9.589\n",
      "Epoch: 1801, loss = 9.134\n",
      "Epoch: 1901, loss = 10.337\n",
      "Epoch: 2001, loss = 10.234\n",
      "Epoch: 2101, loss = 11.103\n",
      "Epoch: 2201, loss = 9.259\n",
      "Epoch: 2301, loss = 8.372\n",
      "Epoch: 2401, loss = 10.204\n",
      "Epoch: 2501, loss = 9.053\n",
      "Epoch: 2601, loss = 8.622\n",
      "Epoch: 2701, loss = 7.956\n",
      "Epoch: 2801, loss = 7.924\n",
      "Epoch: 2901, loss = 8.224\n",
      "Epoch: 3001, loss = 6.803\n",
      "Epoch: 3101, loss = 7.931\n",
      "Epoch: 3201, loss = 7.548\n",
      "Epoch: 3301, loss = 6.077\n",
      "Epoch: 3401, loss = 6.930\n",
      "Epoch: 3501, loss = 5.105\n",
      "Epoch: 3601, loss = 7.839\n",
      "Epoch: 3701, loss = 7.004\n",
      "Epoch: 3801, loss = 5.882\n",
      "Epoch: 3901, loss = 6.896\n",
      "Epoch: 4001, loss = 6.466\n",
      "Epoch: 4101, loss = 5.415\n",
      "Epoch: 4201, loss = 6.850\n",
      "Epoch: 4301, loss = 5.421\n",
      "Epoch: 4401, loss = 6.283\n",
      "Epoch: 4501, loss = 6.332\n",
      "Epoch: 4601, loss = 6.743\n",
      "Epoch: 4701, loss = 6.364\n",
      "Epoch: 4801, loss = 6.683\n",
      "Epoch: 4901, loss = 5.700\n"
     ]
    }
   ],
   "source": [
    "from sklearn.utils import resample\n",
    "graph = topological_sort(input_node_with_value)\n",
    "\n",
    "def run(dictionary):\n",
    "    return topological_sort(dictionary)\n",
    "\n",
    "\n",
    "losses = []\n",
    "epochs = 5000\n",
    "batch_size = 64\n",
    "steps_per_epoch = X_.shape[0] // batch_size\n",
    "for i in range(epochs):\n",
    "    loss = 0\n",
    "    for batch in range(steps_per_epoch):\n",
    "        # indices = np.random.choice(range(X_.shape[0]), size=10, replace=True)\n",
    "        # X_batch = X_[indices]\n",
    "        # y_batch = y_[indices]\n",
    "        X_batch, y_batch = resample(X_, y_, n_samples=batch_size)\n",
    "        X.value = X_batch\n",
    "        y.value = y_batch\n",
    "        training_one_batch(graph)\n",
    "        learning_rate = 1e-3\n",
    "        sgd_update(trainable_nodes=[W1, W2, b1, b2], learning_rate=learning_rate)#调整参数\n",
    "        loss += graph[-1].value\n",
    "\n",
    "    if i % 100 == 0:\n",
    "        print('Epoch: {}, loss = {:.3f}'.format(i + 1, loss / steps_per_epoch))\n",
    "        losses.append(loss)"
   ]
  },
  {
   "cell_type": "code",
   "execution_count": 40,
   "metadata": {},
   "outputs": [
    {
     "data": {
      "text/plain": [
       "[<matplotlib.lines.Line2D at 0x2461d881ef0>]"
      ]
     },
     "execution_count": 40,
     "metadata": {},
     "output_type": "execute_result"
    },
    {
     "data": {
      "image/png": "[encoded data removed]",
      "text/plain": [
       "<Figure size 432x288 with 1 Axes>"
      ]
     },
     "metadata": {
      "needs_background": "light"
     },
     "output_type": "display_data"
    }
   ],
   "source": [
    "%matplotlib inline\n",
    "import matplotlib.pyplot as plt\n",
    "\n",
    "plt.plot(losses)"
   ]
  },
  {
   "cell_type": "code",
   "execution_count": 41,
   "metadata": {},
   "outputs": [
    {
     "data": {
      "text/plain": [
       "array([[-1.29079004,  0.65594486, -0.40278162, -0.5806331 ,  0.63913222,\n",
       "        -0.28535803,  0.40014719,  0.82468912, -0.64543395, -1.33569852],\n",
       "       [ 0.02503754, -0.18751752, -0.42949708,  0.26617563,  0.99130608,\n",
       "         0.23028109,  0.31093634, -0.31105682, -0.02053909, -2.34020414],\n",
       "       [ 1.5490439 ,  1.23193886,  1.20387802, -0.05349883,  0.93821244,\n",
       "        -1.081414  ,  2.16046887,  1.53015591, -0.49661639, -3.66360428],\n",
       "       [ 2.16403988, -0.39897944, -0.2003022 , -1.09758521, -0.52369374,\n",
       "         0.10966682, -0.7936885 , -0.00688408, -0.03553228,  2.2410664 ],\n",
       "       [ 1.17277243,  0.39539532, -0.28837541,  0.82153236,  1.39228722,\n",
       "        -2.50569773, -1.00098069,  0.16930447, -0.79782494, -3.25763032],\n",
       "       [-0.37899351,  1.84958578,  1.26051948,  1.4467464 ,  1.81426258,\n",
       "        -0.5002358 ,  0.76466164,  1.4823031 ,  1.66479643, -0.96721322],\n",
       "       [-0.65907226, -0.32453134, -3.16604637,  0.38762769, -0.92647986,\n",
       "         0.1050646 , -1.90210033, -0.59500515,  1.26806719, -1.45382692],\n",
       "       [-0.88121921,  1.57924234, -0.75743656,  0.45126721, -0.99130736,\n",
       "        -4.28759189,  0.85306541,  2.05871721, -0.07708492, -0.63030133],\n",
       "       [ 1.14403188,  0.04493654,  1.71489899, -2.18249376,  0.35199653,\n",
       "         1.58706542, -1.28064012,  0.82502888,  1.77181236,  1.54047271],\n",
       "       [ 0.50732116, -1.73094735,  1.43030421, -2.15778124,  2.13128487,\n",
       "         0.51654223, -1.52767779,  1.21376839,  0.70986497, -1.45775399],\n",
       "       [-0.53741473, -1.5499921 ,  0.12760615,  0.93209491,  1.14356655,\n",
       "        -2.21677916, -0.58346703, -0.39854203,  0.43075732, -1.34054695],\n",
       "       [ 0.76695611,  0.45577848, -2.61428564,  0.92284665, -0.40104818,\n",
       "         0.38400095,  0.24815512, -0.47701632, -0.35799135,  1.02970207],\n",
       "       [-1.6528087 , -0.22442313, -1.69863619,  2.13021877,  0.40810277,\n",
       "        -0.27704201,  0.48563869,  3.71949803, -3.58874898, -1.12465254]])"
      ]
     },
     "execution_count": 41,
     "metadata": {},
     "output_type": "execute_result"
    }
   ],
   "source": [
    "W1.value"
   ]
  },
  {
   "cell_type": "code",
   "execution_count": 42,
   "metadata": {},
   "outputs": [
    {
     "data": {
      "text/plain": [
       "array([[ 8.14265539],\n",
       "       [ 6.29309223],\n",
       "       [ 4.88794707],\n",
       "       [ 7.29042987],\n",
       "       [ 3.66354524],\n",
       "       [ 9.71025139],\n",
       "       [ 4.81988623],\n",
       "       [-4.58675777],\n",
       "       [ 9.40870975],\n",
       "       [ 4.48524822]])"
      ]
     },
     "execution_count": 42,
     "metadata": {},
     "output_type": "execute_result"
    }
   ],
   "source": [
    "W2.value"
   ]
  },
  {
   "cell_type": "code",
   "execution_count": 43,
   "metadata": {},
   "outputs": [
    {
     "data": {
      "text/plain": [
       "array([-0.41733926, -0.48772236, -0.59338101, -0.27259857, -0.74026221,\n",
       "        0.19427445,  0.36716642,  0.55715988, -0.8678825 , -0.98732948,\n",
       "       -0.30309415,  0.44105193, -0.49243937])"
      ]
     },
     "execution_count": 43,
     "metadata": {},
     "output_type": "execute_result"
    }
   ],
   "source": [
    "X_[1]"
   ]
  },
  {
   "cell_type": "markdown",
   "metadata": {},
   "source": [
    "linear_output = Linear(X, W1, b1) \n",
    "sigmoid_output = Sigmoid(linear_output) \n",
    "yhat = Linear(sigmoid_output, W2, b2) \n",
    "loss = MSE(y, yhat)"
   ]
  },
  {
   "cell_type": "code",
   "execution_count": 45,
   "metadata": {},
   "outputs": [],
   "source": [
    "x1 = Input()"
   ]
  },
  {
   "cell_type": "code",
   "execution_count": 46,
   "metadata": {},
   "outputs": [],
   "source": [
    "x1.value = X_[1]"
   ]
  },
  {
   "cell_type": "code",
   "execution_count": 47,
   "metadata": {},
   "outputs": [],
   "source": [
    "y_of_x1 =  Linear(Sigmoid(Linear(x1, W1, b1)), W2, b2)"
   ]
  },
  {
   "cell_type": "code",
   "execution_count": 48,
   "metadata": {},
   "outputs": [],
   "source": [
    "def _sigmoid(x):\n",
    "        return 1. / (1 + np.exp(-1 * x))"
   ]
  },
  {
   "cell_type": "code",
   "execution_count": 49,
   "metadata": {},
   "outputs": [
    {
     "data": {
      "text/plain": [
       "array([22.54080893])"
      ]
     },
     "execution_count": 49,
     "metadata": {},
     "output_type": "execute_result"
    }
   ],
   "source": [
    "np.dot(_sigmoid(np.dot(X_[1], W1.value) + b1.value), W2.value) + b2.value"
   ]
  },
  {
   "cell_type": "code",
   "execution_count": 50,
   "metadata": {},
   "outputs": [
    {
     "data": {
      "text/plain": [
       "21.6"
      ]
     },
     "execution_count": 50,
     "metadata": {},
     "output_type": "execute_result"
    }
   ],
   "source": [
    "y_[1]"
   ]
  },
  {
   "cell_type": "code",
   "execution_count": null,
   "metadata": {},
   "outputs": [],
   "source": [
    "按照我们的神经网络预测值是22.54080893，实际值是21.6"
   ]
  },
  {
   "cell_type": "code",
   "execution_count": null,
   "metadata": {},
   "outputs": [],
   "source": [
    "总结神经网络的整个流程：\n",
    "1.我们一共设置了Input,Linear,Sigmoid,MSE这么几个节点，每个节点的值有指定的计算方法，每个节点有向前向后传播的方法\n",
    "  前传播计算该节点的值，向后传播计算对应的梯度，用于调整参数\n",
    "2.准备数据，设置用用到的参数的类型，如W1,W2,b1，b2,实例化每个节点，设置feed_dic\n",
    "3.把节点进行拓扑排序\n",
    "4.设置每次训练取样本的数量和训练的总共次数开始训练，每训练一次调整一次参数，让loss越来越小"
   ]
  }
 ],
 "metadata": {
  "kernelspec": {
   "display_name": "Python 3",
   "language": "python",
   "name": "python3"
  },
  "language_info": {
   "codemirror_mode": {
    "name": "ipython",
    "version": 3
   },
   "file_extension": ".py",
   "mimetype": "text/x-python",
   "name": "python",
   "nbconvert_exporter": "python",
   "pygments_lexer": "ipython3",
   "version": "3.7.1"
  }
 },
 "nbformat": 4,
 "nbformat_minor": 2
}
